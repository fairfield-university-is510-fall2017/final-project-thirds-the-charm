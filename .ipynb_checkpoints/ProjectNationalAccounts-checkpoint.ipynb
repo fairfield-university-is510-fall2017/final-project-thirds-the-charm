{
 "cells": [
  {
   "cell_type": "markdown",
   "metadata": {},
   "source": [
    "# Final Project: National Economic Accounts Comparison\n",
    "\n",
    "This project creates a database for a worlwdide comparision of national income account-type variables converted to international prices. The homogenization of national accounts to a common numeraire allows for accurate comparisons of income between countries. Our database utilizes various comparable statistics to asses these differences. For the purpose of our project, we drew on data sets related to levels of education by gender and the ease of doing business in a country. We believe the information derived from these data sets provide meaningful insights into the economic realities of the nations examined. (ex: How levels of educational attainment, highest level of education completed, relate to household consumption. However, that is out-of-scope for now!).\n",
    "\n",
    "__The dataset sources are WRDS and data.worldbank.org/__\n",
    "\n",
    "There is also a myexhangerateapiutil that has 2 functions - one gets all the currencynames available, and the second provides historical exchange rates for a currency to base currncy (USD). \n",
    "\n",
    "__Finally, used markdown and  comments to document what we are doing with each block of code._"
   ]
  },
  {
   "cell_type": "markdown",
   "metadata": {},
   "source": [
    "## 1. Import/Load all required packages."
   ]
  },
  {
   "cell_type": "code",
   "execution_count": 2,
   "metadata": {
    "collapsed": true,
    "scrolled": true
   },
   "outputs": [],
   "source": [
    "import sqlite3\n",
    "import pandas as pd\n",
    "import csv\n",
    "from  myexchangerateapiutil import get_Currencies, get_Exchangerate\n",
    "#from  myexchangerateapiutil import get_ExchangeRate\n",
    "\n",
    "%load_ext sql"
   ]
  },
  {
   "cell_type": "markdown",
   "metadata": {
    "collapsed": true
   },
   "source": [
    "## 2. Create a SQLite database named 'ProjectNationalAccounts.db'. "
   ]
  },
  {
   "cell_type": "code",
   "execution_count": 4,
   "metadata": {},
   "outputs": [
    {
     "data": {
      "text/plain": [
       "'Connected: None@ProjectNationalAccounts.db'"
      ]
     },
     "execution_count": 4,
     "metadata": {},
     "output_type": "execute_result"
    }
   ],
   "source": [
    "%sql sqlite:///ProjectNationalAccounts.db"
   ]
  },
  {
   "cell_type": "markdown",
   "metadata": {},
   "source": [
    "## 3. Study the source data and design your database."
   ]
  },
  {
   "cell_type": "raw",
   "metadata": {},
   "source": [
    "CURRENCY(<u>CurrCode</u>,CurrName)\n",
    "INDICATORS(<u>IndCode</u>,Tag,IndName)\n",
    "COUNTRY(<u>CntryCode</u>,CountryName,<i>CurrCode</i>)\n",
    "NATIONALACCOUNTS(<u>NatAcctID</u>,<i>CountryCode</i><i>IndCode</i>,IndValue)"
   ]
  },
  {
   "cell_type": "markdown",
   "metadata": {},
   "source": [
    "## 4. Assemble the data into lists and/or DataFrames"
   ]
  },
  {
   "cell_type": "raw",
   "metadata": {},
   "source": [
    "** The Currency table is created using an api call to Openexchangerate website"
   ]
  },
  {
   "cell_type": "code",
   "execution_count": 6,
   "metadata": {},
   "outputs": [
    {
     "data": {
      "text/html": [
       "<div>\n",
       "<style>\n",
       "    .dataframe thead tr:only-child th {\n",
       "        text-align: right;\n",
       "    }\n",
       "\n",
       "    .dataframe thead th {\n",
       "        text-align: left;\n",
       "    }\n",
       "\n",
       "    .dataframe tbody tr th {\n",
       "        vertical-align: top;\n",
       "    }\n",
       "</style>\n",
       "<table border=\"1\" class=\"dataframe\">\n",
       "  <thead>\n",
       "    <tr style=\"text-align: right;\">\n",
       "      <th></th>\n",
       "      <th>variable</th>\n",
       "      <th>value</th>\n",
       "    </tr>\n",
       "  </thead>\n",
       "  <tbody>\n",
       "    <tr>\n",
       "      <th>0</th>\n",
       "      <td>AED</td>\n",
       "      <td>United Arab Emirates Dirham</td>\n",
       "    </tr>\n",
       "    <tr>\n",
       "      <th>1</th>\n",
       "      <td>AFN</td>\n",
       "      <td>Afghan Afghani</td>\n",
       "    </tr>\n",
       "    <tr>\n",
       "      <th>2</th>\n",
       "      <td>ALL</td>\n",
       "      <td>Albanian Lek</td>\n",
       "    </tr>\n",
       "    <tr>\n",
       "      <th>3</th>\n",
       "      <td>AMD</td>\n",
       "      <td>Armenian Dram</td>\n",
       "    </tr>\n",
       "    <tr>\n",
       "      <th>4</th>\n",
       "      <td>ANG</td>\n",
       "      <td>Netherlands Antillean Guilder</td>\n",
       "    </tr>\n",
       "  </tbody>\n",
       "</table>\n",
       "</div>"
      ],
      "text/plain": [
       "  variable                          value\n",
       "0      AED    United Arab Emirates Dirham\n",
       "1      AFN                 Afghan Afghani\n",
       "2      ALL                   Albanian Lek\n",
       "3      AMD                  Armenian Dram\n",
       "4      ANG  Netherlands Antillean Guilder"
      ]
     },
     "execution_count": 6,
     "metadata": {},
     "output_type": "execute_result"
    }
   ],
   "source": [
    "currList = []\n",
    "\n",
    "currList.append(get_Currencies())\n",
    "Currency = pd.DataFrame(currList).melt()\n",
    "\n",
    "Currency.head(5)"
   ]
  },
  {
   "cell_type": "raw",
   "metadata": {},
   "source": [
    "**Dataframe for table Indicators"
   ]
  },
  {
   "cell_type": "code",
   "execution_count": 101,
   "metadata": {},
   "outputs": [
    {
     "data": {
      "text/html": [
       "<div>\n",
       "<style>\n",
       "    .dataframe thead tr:only-child th {\n",
       "        text-align: right;\n",
       "    }\n",
       "\n",
       "    .dataframe thead th {\n",
       "        text-align: left;\n",
       "    }\n",
       "\n",
       "    .dataframe tbody tr th {\n",
       "        vertical-align: top;\n",
       "    }\n",
       "</style>\n",
       "<table border=\"1\" class=\"dataframe\">\n",
       "  <thead>\n",
       "    <tr style=\"text-align: right;\">\n",
       "      <th></th>\n",
       "      <th>IndCode</th>\n",
       "      <th>IndName</th>\n",
       "    </tr>\n",
       "  </thead>\n",
       "  <tbody>\n",
       "    <tr>\n",
       "      <th>0</th>\n",
       "      <td>IC.REG.DURS</td>\n",
       "      <td>Time required to start a business (days)</td>\n",
       "    </tr>\n",
       "    <tr>\n",
       "      <th>1</th>\n",
       "      <td>IC.TAX.TOTL.CP.ZS</td>\n",
       "      <td>Total tax rate (% of profit)</td>\n",
       "    </tr>\n",
       "    <tr>\n",
       "      <th>2</th>\n",
       "      <td>IC.REG.COST.PC.ZS</td>\n",
       "      <td>Cost to start a business (% of income per capita)</td>\n",
       "    </tr>\n",
       "    <tr>\n",
       "      <th>3</th>\n",
       "      <td>IC.RP.COST</td>\n",
       "      <td>Cost to register property (% of property value)</td>\n",
       "    </tr>\n",
       "    <tr>\n",
       "      <th>4</th>\n",
       "      <td>SE.PRM.TENR</td>\n",
       "      <td>Adjusted net enrolment rate, primary, both sex...</td>\n",
       "    </tr>\n",
       "    <tr>\n",
       "      <th>5</th>\n",
       "      <td>UIS.LP.AG15T99</td>\n",
       "      <td>Adult illiterate population, 15+ years, both s...</td>\n",
       "    </tr>\n",
       "    <tr>\n",
       "      <th>6</th>\n",
       "      <td>SE.ADT.LITR.ZS</td>\n",
       "      <td>Adult literacy rate, population 15+ years, bot...</td>\n",
       "    </tr>\n",
       "    <tr>\n",
       "      <th>7</th>\n",
       "      <td>SE.TER.CMPL.ZS</td>\n",
       "      <td>Gross graduation ratio from first degree progr...</td>\n",
       "    </tr>\n",
       "    <tr>\n",
       "      <th>8</th>\n",
       "      <td>POP</td>\n",
       "      <td>Population</td>\n",
       "    </tr>\n",
       "    <tr>\n",
       "      <th>9</th>\n",
       "      <td>CHCUR</td>\n",
       "      <td>Final Consumption</td>\n",
       "    </tr>\n",
       "    <tr>\n",
       "      <th>10</th>\n",
       "      <td>GCUR</td>\n",
       "      <td>Govt Collective Consumption Overall</td>\n",
       "    </tr>\n",
       "    <tr>\n",
       "      <th>11</th>\n",
       "      <td>ICUR</td>\n",
       "      <td>Domestic Investment</td>\n",
       "    </tr>\n",
       "    <tr>\n",
       "      <th>12</th>\n",
       "      <td>EXPC</td>\n",
       "      <td>Exports of goods and serices</td>\n",
       "    </tr>\n",
       "    <tr>\n",
       "      <th>13</th>\n",
       "      <td>IMPC</td>\n",
       "      <td>Imports of goods and serices</td>\n",
       "    </tr>\n",
       "    <tr>\n",
       "      <th>14</th>\n",
       "      <td>CACUR</td>\n",
       "      <td>Actual Household Consumption</td>\n",
       "    </tr>\n",
       "    <tr>\n",
       "      <th>15</th>\n",
       "      <td>GCCUR</td>\n",
       "      <td>Govt Collective Consumption Public Goods</td>\n",
       "    </tr>\n",
       "  </tbody>\n",
       "</table>\n",
       "</div>"
      ],
      "text/plain": [
       "              IndCode                                            IndName\n",
       "0         IC.REG.DURS           Time required to start a business (days)\n",
       "1   IC.TAX.TOTL.CP.ZS                       Total tax rate (% of profit)\n",
       "2   IC.REG.COST.PC.ZS  Cost to start a business (% of income per capita)\n",
       "3          IC.RP.COST    Cost to register property (% of property value)\n",
       "4         SE.PRM.TENR  Adjusted net enrolment rate, primary, both sex...\n",
       "5      UIS.LP.AG15T99  Adult illiterate population, 15+ years, both s...\n",
       "6      SE.ADT.LITR.ZS  Adult literacy rate, population 15+ years, bot...\n",
       "7      SE.TER.CMPL.ZS  Gross graduation ratio from first degree progr...\n",
       "8                 POP                                         Population\n",
       "9               CHCUR                                  Final Consumption\n",
       "10               GCUR                Govt Collective Consumption Overall\n",
       "11               ICUR                                Domestic Investment\n",
       "12               EXPC                       Exports of goods and serices\n",
       "13               IMPC                       Imports of goods and serices\n",
       "14              CACUR                       Actual Household Consumption\n",
       "15              GCCUR           Govt Collective Consumption Public Goods"
      ]
     },
     "execution_count": 101,
     "metadata": {},
     "output_type": "execute_result"
    }
   ],
   "source": [
    "df1 = pd.read_csv('NationalAccounts.csv',header=0)\n",
    "df2 = pd.read_csv('EaseofBusiness.csv',header=0)\n",
    "df3 = pd.read_csv('Education.csv',header=0)\n",
    "list_ = []\n",
    "list_.append(df2[['AttCode','AttName']])\n",
    "\n",
    "result = pd.merge(df2,df3,how='outer')\n",
    "indi = pd.merge(result[['AttCode','AttName']].drop_duplicates(),df3[['AttCode','AttName']].drop_duplicates(),how='outer')\n",
    "\n",
    "indicators = pd.merge(indi,df1[['AttCode','AttName']].drop_duplicates(),how='outer')\n",
    "\n",
    "indicators.rename(columns={'AttCode':'IndCode','AttName':'IndName'},inplace=True)\n",
    "indicators"
   ]
  },
  {
   "cell_type": "raw",
   "metadata": {},
   "source": [
    "**Dataframe for table Country"
   ]
  },
  {
   "cell_type": "code",
   "execution_count": 87,
   "metadata": {},
   "outputs": [
    {
     "data": {
      "text/html": [
       "<div>\n",
       "<style>\n",
       "    .dataframe thead tr:only-child th {\n",
       "        text-align: right;\n",
       "    }\n",
       "\n",
       "    .dataframe thead th {\n",
       "        text-align: left;\n",
       "    }\n",
       "\n",
       "    .dataframe tbody tr th {\n",
       "        vertical-align: top;\n",
       "    }\n",
       "</style>\n",
       "<table border=\"1\" class=\"dataframe\">\n",
       "  <thead>\n",
       "    <tr style=\"text-align: right;\">\n",
       "      <th></th>\n",
       "      <th>CntryCo</th>\n",
       "      <th>Cntry</th>\n",
       "    </tr>\n",
       "  </thead>\n",
       "  <tbody>\n",
       "    <tr>\n",
       "      <th>0</th>\n",
       "      <td>AFG</td>\n",
       "      <td>Afghanistan</td>\n",
       "    </tr>\n",
       "    <tr>\n",
       "      <th>1</th>\n",
       "      <td>ALB</td>\n",
       "      <td>Albania</td>\n",
       "    </tr>\n",
       "    <tr>\n",
       "      <th>2</th>\n",
       "      <td>DZA</td>\n",
       "      <td>Algeria</td>\n",
       "    </tr>\n",
       "    <tr>\n",
       "      <th>3</th>\n",
       "      <td>ASM</td>\n",
       "      <td>American Samoa</td>\n",
       "    </tr>\n",
       "    <tr>\n",
       "      <th>4</th>\n",
       "      <td>AND</td>\n",
       "      <td>Andorra</td>\n",
       "    </tr>\n",
       "  </tbody>\n",
       "</table>\n",
       "</div>"
      ],
      "text/plain": [
       "  CntryCo           Cntry\n",
       "0     AFG     Afghanistan\n",
       "1     ALB         Albania\n",
       "2     DZA         Algeria\n",
       "3     ASM  American Samoa\n",
       "4     AND         Andorra"
      ]
     },
     "execution_count": 87,
     "metadata": {},
     "output_type": "execute_result"
    }
   ],
   "source": [
    "df1 = pd.read_csv('NationalAccounts.csv',header=0)\n",
    "df2 = pd.read_csv('EaseofBusiness.csv',header=0)\n",
    "df3 = pd.read_csv('Education.csv',header=0)\n",
    "a = pd.merge(df2[['CntryCo','Cntry']].drop_duplicates(),df3[['CntryCo','Cntry']].drop_duplicates(),how='outer')\n",
    "country = pd.merge(a,df1[['CntryCo','Cntry']].drop_duplicates(),how='outer')\n",
    "\n",
    "country.head(5)"
   ]
  },
  {
   "cell_type": "raw",
   "metadata": {},
   "source": [
    "**Dataframe for table NationalAccounts"
   ]
  },
  {
   "cell_type": "code",
   "execution_count": 105,
   "metadata": {},
   "outputs": [
    {
     "data": {
      "text/html": [
       "<div>\n",
       "<style>\n",
       "    .dataframe thead tr:only-child th {\n",
       "        text-align: right;\n",
       "    }\n",
       "\n",
       "    .dataframe thead th {\n",
       "        text-align: left;\n",
       "    }\n",
       "\n",
       "    .dataframe tbody tr th {\n",
       "        vertical-align: top;\n",
       "    }\n",
       "</style>\n",
       "<table border=\"1\" class=\"dataframe\">\n",
       "  <thead>\n",
       "    <tr style=\"text-align: right;\">\n",
       "      <th></th>\n",
       "      <th>CntryCo</th>\n",
       "      <th>Year</th>\n",
       "      <th>IndCode</th>\n",
       "      <th>IndValue</th>\n",
       "    </tr>\n",
       "  </thead>\n",
       "  <tbody>\n",
       "    <tr>\n",
       "      <th>0</th>\n",
       "      <td>AFG</td>\n",
       "      <td>2007</td>\n",
       "      <td>IC.REG.DURS</td>\n",
       "      <td>9</td>\n",
       "    </tr>\n",
       "    <tr>\n",
       "      <th>1</th>\n",
       "      <td>AFG</td>\n",
       "      <td>2008</td>\n",
       "      <td>IC.REG.DURS</td>\n",
       "      <td>9</td>\n",
       "    </tr>\n",
       "    <tr>\n",
       "      <th>2</th>\n",
       "      <td>AFG</td>\n",
       "      <td>2009</td>\n",
       "      <td>IC.REG.DURS</td>\n",
       "      <td>7</td>\n",
       "    </tr>\n",
       "    <tr>\n",
       "      <th>3</th>\n",
       "      <td>AFG</td>\n",
       "      <td>2007</td>\n",
       "      <td>IC.TAX.TOTL.CP.ZS</td>\n",
       "      <td>36.8</td>\n",
       "    </tr>\n",
       "    <tr>\n",
       "      <th>4</th>\n",
       "      <td>AFG</td>\n",
       "      <td>2008</td>\n",
       "      <td>IC.TAX.TOTL.CP.ZS</td>\n",
       "      <td>36.8</td>\n",
       "    </tr>\n",
       "    <tr>\n",
       "      <th>5</th>\n",
       "      <td>AFG</td>\n",
       "      <td>2009</td>\n",
       "      <td>IC.TAX.TOTL.CP.ZS</td>\n",
       "      <td>36.8</td>\n",
       "    </tr>\n",
       "    <tr>\n",
       "      <th>6</th>\n",
       "      <td>AFG</td>\n",
       "      <td>2007</td>\n",
       "      <td>IC.REG.COST.PC.ZS</td>\n",
       "      <td>84.6</td>\n",
       "    </tr>\n",
       "    <tr>\n",
       "      <th>7</th>\n",
       "      <td>AFG</td>\n",
       "      <td>2008</td>\n",
       "      <td>IC.REG.COST.PC.ZS</td>\n",
       "      <td>59.5</td>\n",
       "    </tr>\n",
       "    <tr>\n",
       "      <th>8</th>\n",
       "      <td>AFG</td>\n",
       "      <td>2009</td>\n",
       "      <td>IC.REG.COST.PC.ZS</td>\n",
       "      <td>30.2</td>\n",
       "    </tr>\n",
       "    <tr>\n",
       "      <th>9</th>\n",
       "      <td>AFG</td>\n",
       "      <td>2007</td>\n",
       "      <td>IC.RP.COST</td>\n",
       "      <td>7</td>\n",
       "    </tr>\n",
       "    <tr>\n",
       "      <th>10</th>\n",
       "      <td>AFG</td>\n",
       "      <td>2008</td>\n",
       "      <td>IC.RP.COST</td>\n",
       "      <td>7</td>\n",
       "    </tr>\n",
       "    <tr>\n",
       "      <th>11</th>\n",
       "      <td>AFG</td>\n",
       "      <td>2009</td>\n",
       "      <td>IC.RP.COST</td>\n",
       "      <td>4</td>\n",
       "    </tr>\n",
       "    <tr>\n",
       "      <th>12</th>\n",
       "      <td>ALB</td>\n",
       "      <td>2007</td>\n",
       "      <td>IC.REG.DURS</td>\n",
       "      <td>37</td>\n",
       "    </tr>\n",
       "    <tr>\n",
       "      <th>13</th>\n",
       "      <td>ALB</td>\n",
       "      <td>2008</td>\n",
       "      <td>IC.REG.DURS</td>\n",
       "      <td>10</td>\n",
       "    </tr>\n",
       "    <tr>\n",
       "      <th>14</th>\n",
       "      <td>ALB</td>\n",
       "      <td>2009</td>\n",
       "      <td>IC.REG.DURS</td>\n",
       "      <td>6</td>\n",
       "    </tr>\n",
       "  </tbody>\n",
       "</table>\n",
       "</div>"
      ],
      "text/plain": [
       "   CntryCo  Year            IndCode IndValue\n",
       "0      AFG  2007        IC.REG.DURS        9\n",
       "1      AFG  2008        IC.REG.DURS        9\n",
       "2      AFG  2009        IC.REG.DURS        7\n",
       "3      AFG  2007  IC.TAX.TOTL.CP.ZS     36.8\n",
       "4      AFG  2008  IC.TAX.TOTL.CP.ZS     36.8\n",
       "5      AFG  2009  IC.TAX.TOTL.CP.ZS     36.8\n",
       "6      AFG  2007  IC.REG.COST.PC.ZS     84.6\n",
       "7      AFG  2008  IC.REG.COST.PC.ZS     59.5\n",
       "8      AFG  2009  IC.REG.COST.PC.ZS     30.2\n",
       "9      AFG  2007         IC.RP.COST        7\n",
       "10     AFG  2008         IC.RP.COST        7\n",
       "11     AFG  2009         IC.RP.COST        4\n",
       "12     ALB  2007        IC.REG.DURS       37\n",
       "13     ALB  2008        IC.REG.DURS       10\n",
       "14     ALB  2009        IC.REG.DURS        6"
      ]
     },
     "execution_count": 105,
     "metadata": {},
     "output_type": "execute_result"
    }
   ],
   "source": [
    "x = pd.merge(df2[['CntryCo','Year','AttCode','AttValue']],df3[['CntryCo','Year','AttCode','AttValue']],how='outer')\n",
    "NationalAccounts = pd.merge(x,df1[['CntryCo','Year','AttCode','AttValue']],how='outer')\n",
    "\n",
    "NationalAccounts.rename(columns={'AttCode':'IndCode','AttValue':'IndValue'},inplace=True)\n",
    "NationalAccounts.head(15)\n",
    "#x.drop_duplicates()"
   ]
  },
  {
   "cell_type": "code",
   "execution_count": 110,
   "metadata": {},
   "outputs": [
    {
     "name": "stdout",
     "output_type": "stream",
     "text": [
      "Done.\n",
      "Done.\n",
      "Done.\n",
      "Done.\n",
      "Done.\n",
      "Done.\n",
      "Done.\n",
      "Done.\n",
      "Done.\n"
     ]
    },
    {
     "data": {
      "text/html": [
       "<table>\n",
       "    <tr>\n",
       "        <th>cid</th>\n",
       "        <th>name</th>\n",
       "        <th>type</th>\n",
       "        <th>notnull</th>\n",
       "        <th>dflt_value</th>\n",
       "        <th>pk</th>\n",
       "    </tr>\n",
       "    <tr>\n",
       "        <td>0</td>\n",
       "        <td>NatAcctID</td>\n",
       "        <td>INTEGER</td>\n",
       "        <td>0</td>\n",
       "        <td>None</td>\n",
       "        <td>1</td>\n",
       "    </tr>\n",
       "    <tr>\n",
       "        <td>1</td>\n",
       "        <td>CntryCode</td>\n",
       "        <td>TEXT</td>\n",
       "        <td>1</td>\n",
       "        <td>None</td>\n",
       "        <td>0</td>\n",
       "    </tr>\n",
       "    <tr>\n",
       "        <td>2</td>\n",
       "        <td>Year</td>\n",
       "        <td>TEXT</td>\n",
       "        <td>0</td>\n",
       "        <td>None</td>\n",
       "        <td>0</td>\n",
       "    </tr>\n",
       "    <tr>\n",
       "        <td>3</td>\n",
       "        <td>IndCode</td>\n",
       "        <td>TEXT</td>\n",
       "        <td>0</td>\n",
       "        <td>None</td>\n",
       "        <td>0</td>\n",
       "    </tr>\n",
       "    <tr>\n",
       "        <td>4</td>\n",
       "        <td>IndValue</td>\n",
       "        <td>FLOAT</td>\n",
       "        <td>0</td>\n",
       "        <td>None</td>\n",
       "        <td>0</td>\n",
       "    </tr>\n",
       "</table>"
      ],
      "text/plain": [
       "[(0, 'NatAcctID', 'INTEGER', 0, None, 1),\n",
       " (1, 'CntryCode', 'TEXT', 1, None, 0),\n",
       " (2, 'Year', 'TEXT', 0, None, 0),\n",
       " (3, 'IndCode', 'TEXT', 0, None, 0),\n",
       " (4, 'IndValue', 'FLOAT', 0, None, 0)]"
      ]
     },
     "execution_count": 110,
     "metadata": {},
     "output_type": "execute_result"
    }
   ],
   "source": [
    "%%sql\n",
    "DROP TABLE IF EXISTS CURRENCY;\n",
    "DROP TABLE IF EXISTS INDICATORS;\n",
    "DROP TABLE IF EXISTS COUNTRY;\n",
    "DROP TABLE IF EXISTS NATIONALACCOUNTS;\n",
    "\n",
    "CREATE TABLE CURRENCY (CurrCode TEXT PRIMARY KEY,CurrName TEXT NOT NULL);\n",
    "CREATE TABLE INDICATORS (IndCode TEXT PRIMARY KEY,IndName TEXT NOT NULL);\n",
    "CREATE TABLE COUNTRY (CntryCode TEXT PRIMARY KEY,CntryName TEXT NOT NULL,CurrCode TEXT NULL,\n",
    "                     FOREIGN KEY (CurrCode) REFERENCES CURRENCY(CurrCode));\n",
    "CREATE TABLE NATIONALACCOUNTS (NatAcctID INTEGER PRIMARY KEY,CntryCode TEXT NOT NULL, Year TEXT,\n",
    "                               IndCode TEXT,IndValue FLOAT,\n",
    "                               FOREIGN KEY (CntryCode) REFERENCES COUNTRY (CntryCode)\n",
    "                              FOREIGN KEY (IndCode) REFERENCES INDICATORS (IndCode));\n",
    "\n",
    "PRAGMA TABLE_INFO('NATIONALACCOUNTS');\n"
   ]
  },
  {
   "cell_type": "code",
   "execution_count": 22,
   "metadata": {},
   "outputs": [
    {
     "ename": "NameError",
     "evalue": "name 'rate' is not defined",
     "output_type": "error",
     "traceback": [
      "\u001b[1;31m---------------------------------------------------------------------------\u001b[0m",
      "\u001b[1;31mNameError\u001b[0m                                 Traceback (most recent call last)",
      "\u001b[1;32m<ipython-input-22-cceca6f76e3f>\u001b[0m in \u001b[0;36m<module>\u001b[1;34m()\u001b[0m\n\u001b[0;32m      3\u001b[0m \u001b[0mfxrateList\u001b[0m \u001b[1;33m=\u001b[0m \u001b[1;33m[\u001b[0m\u001b[1;33m]\u001b[0m\u001b[1;33m\u001b[0m\u001b[0m\n\u001b[0;32m      4\u001b[0m \u001b[1;33m\u001b[0m\u001b[0m\n\u001b[1;32m----> 5\u001b[1;33m \u001b[0mfxrateList\u001b[0m\u001b[1;33m.\u001b[0m\u001b[0mappend\u001b[0m\u001b[1;33m(\u001b[0m\u001b[0mget_Exchangerate\u001b[0m\u001b[1;33m(\u001b[0m\u001b[1;33m)\u001b[0m\u001b[1;33m)\u001b[0m\u001b[1;33m\u001b[0m\u001b[0m\n\u001b[0m\u001b[0;32m      6\u001b[0m \u001b[0mfxrateList\u001b[0m\u001b[1;33m\u001b[0m\u001b[0m\n",
      "\u001b[1;32m~\\Documents\\GitHub\\final-project-thirds-the-charm\\myexchangerateapiutil.py\u001b[0m in \u001b[0;36mget_Exchangerate\u001b[1;34m()\u001b[0m\n\u001b[0;32m     27\u001b[0m \u001b[1;33m\u001b[0m\u001b[0m\n\u001b[0;32m     28\u001b[0m     \u001b[1;32mreturn\u001b[0m \u001b[0mfx\u001b[0m\u001b[1;33m\u001b[0m\u001b[0m\n\u001b[1;32m---> 29\u001b[1;33m \u001b[1;33m\u001b[0m\u001b[0m\n\u001b[0m\u001b[0;32m     30\u001b[0m \u001b[1;32mdef\u001b[0m \u001b[0mget_Currencies\u001b[0m\u001b[1;33m(\u001b[0m\u001b[1;33m)\u001b[0m\u001b[1;33m:\u001b[0m\u001b[1;33m\u001b[0m\u001b[0m\n\u001b[0;32m     31\u001b[0m     \"\"\"Uses the openexchangerates API to look up currency code, name combination\n",
      "\u001b[1;31mNameError\u001b[0m: name 'rate' is not defined"
     ]
    }
   ],
   "source": [
    "from myexchangerateapiutil import get_Exchangerate\n",
    "\n",
    "fxrateList = []\n",
    "\n",
    "fxrateList.append(get_Exchangerate())\n",
    "fxrateList"
   ]
  },
  {
   "cell_type": "code",
   "execution_count": 5,
   "metadata": {},
   "outputs": [
    {
     "name": "stdout",
     "output_type": "stream",
     "text": [
      "Done.\n"
     ]
    },
    {
     "data": {
      "text/html": [
       "<table>\n",
       "    <tr>\n",
       "        <th>NatAcctID</th>\n",
       "        <th>CntryCode</th>\n",
       "        <th>Year</th>\n",
       "        <th>IndCode</th>\n",
       "        <th>IndValue</th>\n",
       "    </tr>\n",
       "</table>"
      ],
      "text/plain": [
       "[]"
      ]
     },
     "execution_count": 5,
     "metadata": {},
     "output_type": "execute_result"
    }
   ],
   "source": [
    "%%sql\n",
    "select * from nationalaccounts"
   ]
  },
  {
   "cell_type": "markdown",
   "metadata": {},
   "source": [
    "## 5. Push dataframes into sqlite Database"
   ]
  },
  {
   "cell_type": "code",
   "execution_count": 8,
   "metadata": {},
   "outputs": [
    {
     "ename": "OperationalError",
     "evalue": "table \"Currency\" already exists",
     "output_type": "error",
     "traceback": [
      "\u001b[1;31m---------------------------------------------------------------------------\u001b[0m",
      "\u001b[1;31mOperationalError\u001b[0m                          Traceback (most recent call last)",
      "\u001b[1;32m<ipython-input-8-2093dc21ac4b>\u001b[0m in \u001b[0;36m<module>\u001b[1;34m()\u001b[0m\n\u001b[0;32m      1\u001b[0m \u001b[0mconn\u001b[0m \u001b[1;33m=\u001b[0m \u001b[0msqlite3\u001b[0m\u001b[1;33m.\u001b[0m\u001b[0mconnect\u001b[0m\u001b[1;33m(\u001b[0m\u001b[1;34m'ProjectNationalAccounts.db'\u001b[0m\u001b[1;33m)\u001b[0m \u001b[1;31m# Create a database connection\u001b[0m\u001b[1;33m\u001b[0m\u001b[0m\n\u001b[1;32m----> 2\u001b[1;33m \u001b[0mCurrency\u001b[0m\u001b[1;33m.\u001b[0m\u001b[0mto_sql\u001b[0m\u001b[1;33m(\u001b[0m\u001b[1;34m\"Currency\"\u001b[0m\u001b[1;33m,\u001b[0m\u001b[0mconn\u001b[0m\u001b[1;33m,\u001b[0m\u001b[0mif_exists\u001b[0m\u001b[1;33m=\u001b[0m\u001b[1;34m\"append\"\u001b[0m\u001b[1;33m)\u001b[0m \u001b[1;31m# Write data to SQLite\u001b[0m\u001b[1;33m\u001b[0m\u001b[0m\n\u001b[0m",
      "\u001b[1;32m~\\AppData\\Local\\Continuum\\anaconda3\\lib\\site-packages\\pandas\\core\\generic.py\u001b[0m in \u001b[0;36mto_sql\u001b[1;34m(self, name, con, flavor, schema, if_exists, index, index_label, chunksize, dtype)\u001b[0m\n\u001b[0;32m   1360\u001b[0m         sql.to_sql(self, name, con, flavor=flavor, schema=schema,\n\u001b[0;32m   1361\u001b[0m                    \u001b[0mif_exists\u001b[0m\u001b[1;33m=\u001b[0m\u001b[0mif_exists\u001b[0m\u001b[1;33m,\u001b[0m \u001b[0mindex\u001b[0m\u001b[1;33m=\u001b[0m\u001b[0mindex\u001b[0m\u001b[1;33m,\u001b[0m \u001b[0mindex_label\u001b[0m\u001b[1;33m=\u001b[0m\u001b[0mindex_label\u001b[0m\u001b[1;33m,\u001b[0m\u001b[1;33m\u001b[0m\u001b[0m\n\u001b[1;32m-> 1362\u001b[1;33m                    chunksize=chunksize, dtype=dtype)\n\u001b[0m\u001b[0;32m   1363\u001b[0m \u001b[1;33m\u001b[0m\u001b[0m\n\u001b[0;32m   1364\u001b[0m     \u001b[1;32mdef\u001b[0m \u001b[0mto_pickle\u001b[0m\u001b[1;33m(\u001b[0m\u001b[0mself\u001b[0m\u001b[1;33m,\u001b[0m \u001b[0mpath\u001b[0m\u001b[1;33m,\u001b[0m \u001b[0mcompression\u001b[0m\u001b[1;33m=\u001b[0m\u001b[1;34m'infer'\u001b[0m\u001b[1;33m)\u001b[0m\u001b[1;33m:\u001b[0m\u001b[1;33m\u001b[0m\u001b[0m\n",
      "\u001b[1;32m~\\AppData\\Local\\Continuum\\anaconda3\\lib\\site-packages\\pandas\\io\\sql.py\u001b[0m in \u001b[0;36mto_sql\u001b[1;34m(frame, name, con, flavor, schema, if_exists, index, index_label, chunksize, dtype)\u001b[0m\n\u001b[0;32m    469\u001b[0m     pandas_sql.to_sql(frame, name, if_exists=if_exists, index=index,\n\u001b[0;32m    470\u001b[0m                       \u001b[0mindex_label\u001b[0m\u001b[1;33m=\u001b[0m\u001b[0mindex_label\u001b[0m\u001b[1;33m,\u001b[0m \u001b[0mschema\u001b[0m\u001b[1;33m=\u001b[0m\u001b[0mschema\u001b[0m\u001b[1;33m,\u001b[0m\u001b[1;33m\u001b[0m\u001b[0m\n\u001b[1;32m--> 471\u001b[1;33m                       chunksize=chunksize, dtype=dtype)\n\u001b[0m\u001b[0;32m    472\u001b[0m \u001b[1;33m\u001b[0m\u001b[0m\n\u001b[0;32m    473\u001b[0m \u001b[1;33m\u001b[0m\u001b[0m\n",
      "\u001b[1;32m~\\AppData\\Local\\Continuum\\anaconda3\\lib\\site-packages\\pandas\\io\\sql.py\u001b[0m in \u001b[0;36mto_sql\u001b[1;34m(self, frame, name, if_exists, index, index_label, schema, chunksize, dtype)\u001b[0m\n\u001b[0;32m   1503\u001b[0m                             \u001b[0mif_exists\u001b[0m\u001b[1;33m=\u001b[0m\u001b[0mif_exists\u001b[0m\u001b[1;33m,\u001b[0m \u001b[0mindex_label\u001b[0m\u001b[1;33m=\u001b[0m\u001b[0mindex_label\u001b[0m\u001b[1;33m,\u001b[0m\u001b[1;33m\u001b[0m\u001b[0m\n\u001b[0;32m   1504\u001b[0m                             dtype=dtype)\n\u001b[1;32m-> 1505\u001b[1;33m         \u001b[0mtable\u001b[0m\u001b[1;33m.\u001b[0m\u001b[0mcreate\u001b[0m\u001b[1;33m(\u001b[0m\u001b[1;33m)\u001b[0m\u001b[1;33m\u001b[0m\u001b[0m\n\u001b[0m\u001b[0;32m   1506\u001b[0m         \u001b[0mtable\u001b[0m\u001b[1;33m.\u001b[0m\u001b[0minsert\u001b[0m\u001b[1;33m(\u001b[0m\u001b[0mchunksize\u001b[0m\u001b[1;33m)\u001b[0m\u001b[1;33m\u001b[0m\u001b[0m\n\u001b[0;32m   1507\u001b[0m \u001b[1;33m\u001b[0m\u001b[0m\n",
      "\u001b[1;32m~\\AppData\\Local\\Continuum\\anaconda3\\lib\\site-packages\\pandas\\io\\sql.py\u001b[0m in \u001b[0;36mcreate\u001b[1;34m(self)\u001b[0m\n\u001b[0;32m    596\u001b[0m                     \"'{0}' is not valid for if_exists\".format(self.if_exists))\n\u001b[0;32m    597\u001b[0m         \u001b[1;32melse\u001b[0m\u001b[1;33m:\u001b[0m\u001b[1;33m\u001b[0m\u001b[0m\n\u001b[1;32m--> 598\u001b[1;33m             \u001b[0mself\u001b[0m\u001b[1;33m.\u001b[0m\u001b[0m_execute_create\u001b[0m\u001b[1;33m(\u001b[0m\u001b[1;33m)\u001b[0m\u001b[1;33m\u001b[0m\u001b[0m\n\u001b[0m\u001b[0;32m    599\u001b[0m \u001b[1;33m\u001b[0m\u001b[0m\n\u001b[0;32m    600\u001b[0m     \u001b[1;32mdef\u001b[0m \u001b[0minsert_statement\u001b[0m\u001b[1;33m(\u001b[0m\u001b[0mself\u001b[0m\u001b[1;33m)\u001b[0m\u001b[1;33m:\u001b[0m\u001b[1;33m\u001b[0m\u001b[0m\n",
      "\u001b[1;32m~\\AppData\\Local\\Continuum\\anaconda3\\lib\\site-packages\\pandas\\io\\sql.py\u001b[0m in \u001b[0;36m_execute_create\u001b[1;34m(self)\u001b[0m\n\u001b[0;32m   1273\u001b[0m         \u001b[1;32mwith\u001b[0m \u001b[0mself\u001b[0m\u001b[1;33m.\u001b[0m\u001b[0mpd_sql\u001b[0m\u001b[1;33m.\u001b[0m\u001b[0mrun_transaction\u001b[0m\u001b[1;33m(\u001b[0m\u001b[1;33m)\u001b[0m \u001b[1;32mas\u001b[0m \u001b[0mconn\u001b[0m\u001b[1;33m:\u001b[0m\u001b[1;33m\u001b[0m\u001b[0m\n\u001b[0;32m   1274\u001b[0m             \u001b[1;32mfor\u001b[0m \u001b[0mstmt\u001b[0m \u001b[1;32min\u001b[0m \u001b[0mself\u001b[0m\u001b[1;33m.\u001b[0m\u001b[0mtable\u001b[0m\u001b[1;33m:\u001b[0m\u001b[1;33m\u001b[0m\u001b[0m\n\u001b[1;32m-> 1275\u001b[1;33m                 \u001b[0mconn\u001b[0m\u001b[1;33m.\u001b[0m\u001b[0mexecute\u001b[0m\u001b[1;33m(\u001b[0m\u001b[0mstmt\u001b[0m\u001b[1;33m)\u001b[0m\u001b[1;33m\u001b[0m\u001b[0m\n\u001b[0m\u001b[0;32m   1276\u001b[0m \u001b[1;33m\u001b[0m\u001b[0m\n\u001b[0;32m   1277\u001b[0m     \u001b[1;32mdef\u001b[0m \u001b[0minsert_statement\u001b[0m\u001b[1;33m(\u001b[0m\u001b[0mself\u001b[0m\u001b[1;33m)\u001b[0m\u001b[1;33m:\u001b[0m\u001b[1;33m\u001b[0m\u001b[0m\n",
      "\u001b[1;31mOperationalError\u001b[0m: table \"Currency\" already exists"
     ]
    }
   ],
   "source": [
    "conn = sqlite3.connect('ProjectNationalAccounts.db') # Create a database connection\n",
    "Currency.to_sql(\"Currency\",conn,if_exists=\"append\") # Write data to SQLite"
   ]
  },
  {
   "cell_type": "code",
   "execution_count": 10,
   "metadata": {},
   "outputs": [
    {
     "name": "stdout",
     "output_type": "stream",
     "text": [
      "Done.\n"
     ]
    },
    {
     "data": {
      "text/html": [
       "<table>\n",
       "    <tr>\n",
       "        <th>CurrCode</th>\n",
       "        <th>CurrName</th>\n",
       "    </tr>\n",
       "</table>"
      ],
      "text/plain": [
       "[]"
      ]
     },
     "execution_count": 10,
     "metadata": {},
     "output_type": "execute_result"
    }
   ],
   "source": [
    "%%sql\n",
    "select * from currency"
   ]
  },
  {
   "cell_type": "markdown",
   "metadata": {},
   "source": [
    "## 6. Create a composite report joining the tables"
   ]
  },
  {
   "cell_type": "code",
   "execution_count": 17,
   "metadata": {},
   "outputs": [
    {
     "name": "stdout",
     "output_type": "stream",
     "text": [
      "Done.\n"
     ]
    },
    {
     "data": {
      "text/html": [
       "<table>\n",
       "    <tr>\n",
       "        <th>CntryCode</th>\n",
       "        <th>CntryName</th>\n",
       "        <th>CurrCode</th>\n",
       "        <th>CurrName</th>\n",
       "        <th>Year</th>\n",
       "        <th>AttributeKey</th>\n",
       "        <th>AttributeValue</th>\n",
       "    </tr>\n",
       "</table>"
      ],
      "text/plain": [
       "[]"
      ]
     },
     "execution_count": 17,
     "metadata": {},
     "output_type": "execute_result"
    }
   ],
   "source": [
    "%%sql\n",
    "\n",
    "select Country.CntryCode, Country.CntryName,Country.CurrCode,Currency.CurrName,\n",
    "        NationalAccounts.Year,NationalAccounts.IndCode \"AttributeKey\",NationalAccounts.IndValue \"AttributeValue\"\n",
    "from Country\n",
    "             LEFT JOIN Currency on Country.CurrCode = Currency.CurrCode\n",
    "             LEFT JOIN NationalAccounts on Country.CntryCode = NationalAccounts.CntryCode\n",
    "             LEFT JOIN Indicators on NationalAccounts.IndCode = Indicators.IndCode\n",
    "order by Country.CntryCode;\n"
   ]
  },
  {
   "cell_type": "code",
   "execution_count": null,
   "metadata": {
    "collapsed": true
   },
   "outputs": [],
   "source": []
  }
 ],
 "metadata": {
  "kernelspec": {
   "display_name": "Python 3",
   "language": "python",
   "name": "python3"
  },
  "language_info": {
   "codemirror_mode": {
    "name": "ipython",
    "version": 3
   },
   "file_extension": ".py",
   "mimetype": "text/x-python",
   "name": "python",
   "nbconvert_exporter": "python",
   "pygments_lexer": "ipython3",
   "version": "3.6.3"
  }
 },
 "nbformat": 4,
 "nbformat_minor": 2
}
